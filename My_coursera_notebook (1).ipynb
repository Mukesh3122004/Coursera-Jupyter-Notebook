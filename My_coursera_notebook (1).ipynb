{
 "cells": [
  {
   "cell_type": "markdown",
   "id": "46602da7-e80a-427b-8b6b-c1f69f4391f0",
   "metadata": {},
   "source": [
    "# Data Science Tools and Ecosystem"
   ]
  },
  {
   "cell_type": "markdown",
   "id": "7df6bcf1-9ff7-46b2-a140-6b05f9e12a6a",
   "metadata": {},
   "source": [
    "In this notebook, Data Science Tools and Ecosystem are summarized."
   ]
  },
  {
   "cell_type": "markdown",
   "id": "7d385422-9edd-4b6f-97b2-e148d6160478",
   "metadata": {},
   "source": [
    "**Objectives:**\n",
    "* List popular languages\n",
    "* List commonly used libraries\n",
    "* List data science tools\n",
    "* Evaluating arithmetic expressions"
   ]
  },
  {
   "cell_type": "markdown",
   "id": "3067d0f9-efe4-4464-abda-ce16f560986f",
   "metadata": {},
   "source": [
    "Some of the popular languages that Data Scientists use are:\n",
    "1. Python\n",
    "2. SQL\n",
    "3. R"
   ]
  },
  {
   "cell_type": "markdown",
   "id": "7b5f9497-c4b7-4a60-8af6-2025a70e5103",
   "metadata": {},
   "source": [
    "Some of the commonly used libraries used by Data Scientists include:\n",
    "1. numpy\n",
    "2. matplotlib\n",
    "3. pandas"
   ]
  },
  {
   "cell_type": "markdown",
   "id": "9b920f64-32c9-4697-9b20-ac306f547806",
   "metadata": {},
   "source": [
    "|Data science tool |\n",
    "|------------------|\n",
    "|Jupyter |\n",
    "|Rstudio |\n",
    "|VS studio|"
   ]
  },
  {
   "cell_type": "markdown",
   "id": "f89e3ee8-4e1f-4690-bacd-89b6b3fecba4",
   "metadata": {},
   "source": [
    "### Below are a few examples of evaluating arithmetic expressions in Python"
   ]
  },
  {
   "cell_type": "code",
   "execution_count": 7,
   "id": "0fd2a11b-4296-45a8-a843-ab364d35fa1c",
   "metadata": {},
   "outputs": [
    {
     "data": {
      "text/plain": [
       "17"
      ]
     },
     "execution_count": 7,
     "metadata": {},
     "output_type": "execute_result"
    }
   ],
   "source": [
    "#This a simple arithmetic expression to mutiply then add integers\n",
    "(3*4)+5"
   ]
  },
  {
   "cell_type": "code",
   "execution_count": 10,
   "id": "b21e8427-adee-4fa8-a0ac-e04cf2a2e682",
   "metadata": {},
   "outputs": [
    {
     "data": {
      "text/plain": [
       "3.3333333333333335"
      ]
     },
     "execution_count": 10,
     "metadata": {},
     "output_type": "execute_result"
    }
   ],
   "source": [
    "#This will convert 200 minutes to hours by diving by 60\n",
    "200/60"
   ]
  },
  {
   "cell_type": "markdown",
   "id": "1e143c64-995d-469e-8ce1-a79145b4f8a0",
   "metadata": {},
   "source": [
    "## Author\n",
    "Mukesh N"
   ]
  },
  {
   "cell_type": "code",
   "execution_count": null,
   "id": "98ddc978-f414-4fb8-9c68-e98d1b492835",
   "metadata": {},
   "outputs": [],
   "source": []
  }
 ],
 "metadata": {
  "kernelspec": {
   "display_name": "Python 3 (ipykernel)",
   "language": "python",
   "name": "python3"
  },
  "language_info": {
   "codemirror_mode": {
    "name": "ipython",
    "version": 3
   },
   "file_extension": ".py",
   "mimetype": "text/x-python",
   "name": "python",
   "nbconvert_exporter": "python",
   "pygments_lexer": "ipython3",
   "version": "3.12.8"
  }
 },
 "nbformat": 4,
 "nbformat_minor": 5
}
